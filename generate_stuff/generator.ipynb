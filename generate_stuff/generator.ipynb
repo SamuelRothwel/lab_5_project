{
 "cells": [
  {
   "cell_type": "code",
   "execution_count": 1,
   "metadata": {},
   "outputs": [],
   "source": [
    "import random\n",
    "import uuid"
   ]
  },
  {
   "cell_type": "code",
   "execution_count": 4,
   "metadata": {},
   "outputs": [],
   "source": [
    "import uuid\n",
    "with open('out.txt', 'w') as file:\n",
    "  for i in range(1000000):\n",
    "    guid = uuid.uuid4()\n",
    "    file.write(str(guid) + \"\\n\")"
   ]
  },
  {
   "cell_type": "code",
   "execution_count": 37,
   "metadata": {},
   "outputs": [],
   "source": [
    "str = \"\"\n",
    "\n",
    "with open('sentences.txt', 'w') as out:\n",
    "    with open('words.txt', 'r') as file:\n",
    "        #for line in file:\n",
    "        #  str += ',\"'\n",
    "        #  str += line\n",
    "        #  str += '\"'\n",
    "            \n",
    "        lines = file.readlines()\n",
    "        \n",
    "        for i in range(1000000):\n",
    "            num = random.randint(3, 20)\n",
    "            inc = \"\"\n",
    "            for j in range(0, num):\n",
    "                inc += (\"\" + lines[random.randint(0, 99)].replace(\"\\n\", \"\") + \", \")\n",
    "\n",
    "            out.write(inc + \"\\n\")"
   ]
  }
 ],
 "metadata": {
  "kernelspec": {
   "display_name": "Python 3",
   "language": "python",
   "name": "python3"
  },
  "language_info": {
   "codemirror_mode": {
    "name": "ipython",
    "version": 3
   },
   "file_extension": ".py",
   "mimetype": "text/x-python",
   "name": "python",
   "nbconvert_exporter": "python",
   "pygments_lexer": "ipython3",
   "version": "3.11.9"
  }
 },
 "nbformat": 4,
 "nbformat_minor": 2
}
